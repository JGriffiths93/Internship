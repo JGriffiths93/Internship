{
 "cells": [
  {
   "cell_type": "code",
   "execution_count": null,
   "id": "9de731aa",
   "metadata": {},
   "outputs": [],
   "source": [
    "#Python worksheet 1: \n",
    "#1)\tC- %\n",
    "#2)\tB- 0\n",
    "#3)\tC - 24\n",
    "#4)\tD - 0\n",
    "#5)\tB - 4\n",
    "#6)\tC - the finally block will be executed no matter if the try block raises an error\n",
    "#7)\tA - it is used to raise an exception \n",
    "#8)\tC - in defining a generator \n",
    "#9)\tA-  ‘_abc’ C –‘abc2’\n",
    "#10)\tA- yield B- raise\n"
   ]
  },
  {
   "cell_type": "code",
   "execution_count": 1,
   "id": "79b0adf0",
   "metadata": {},
   "outputs": [
    {
     "name": "stdout",
     "output_type": "stream",
     "text": [
      "Enter a number5\n",
      "120\n"
     ]
    }
   ],
   "source": [
    "#11)\n",
    "n= int(input('Enter a number'))\n",
    "factorial = 1\n",
    "if n >=1:\n",
    "    for i in range (1, n+1):\n",
    "        factorial = factorial *i\n",
    "print (factorial)"
   ]
  },
  {
   "cell_type": "code",
   "execution_count": 15,
   "id": "8573a82f",
   "metadata": {},
   "outputs": [
    {
     "name": "stdout",
     "output_type": "stream",
     "text": [
      "Enter a number1245\n",
      "1245 is not a prime number\n"
     ]
    }
   ],
   "source": [
    "#12)\n",
    "n = int(input('Enter a number'))\n",
    "prime= True\n",
    "if n >1:\n",
    "    for i in range (2, n):\n",
    "        if (n%i) == 0:\n",
    "            prime= False\n",
    "            break\n",
    "if prime:\n",
    "    print (n, 'is a prime number')\n",
    "else:\n",
    "    print (n, 'is not a prime number') "
   ]
  },
  {
   "cell_type": "code",
   "execution_count": 31,
   "id": "1646e334",
   "metadata": {},
   "outputs": [
    {
     "name": "stdout",
     "output_type": "stream",
     "text": [
      "Enter a number7435\n",
      "7435 is not a palindrome\n"
     ]
    }
   ],
   "source": [
    "#13\n",
    "def is_palindrome_number(n):\n",
    "    original_number = n\n",
    "    reversed_number = 0\n",
    "    while n > 0:\n",
    "        digit = n % 10\n",
    "        reversed_number = reversed_number * 10 + digit\n",
    "        n //= 10\n",
    "    return original_number == reversed_number\n",
    "n= int(input('Enter a number'))\n",
    "if is_palindrome_number(n):\n",
    "    print (n,'is a palindrome')\n",
    "else:\n",
    "    print (n, 'is not a palindrome')\n"
   ]
  },
  {
   "cell_type": "code",
   "execution_count": 33,
   "id": "58ffd850",
   "metadata": {},
   "outputs": [
    {
     "name": "stdout",
     "output_type": "stream",
     "text": [
      "Enter the length of the first side5\n",
      "Enter the length of the second side6\n",
      "7.810249675906654\n"
     ]
    }
   ],
   "source": [
    "#14\n",
    "import numpy as np\n",
    "side_1= float(input('Enter the length of the first side'))\n",
    "side_2= float(input('Enter the length of the second side'))\n",
    "side_3= np.sqrt(side_1**2+side_2**2)\n",
    "print (side_3)"
   ]
  },
  {
   "cell_type": "code",
   "execution_count": null,
   "id": "84c657c9",
   "metadata": {},
   "outputs": [],
   "source": [
    "#15\n",
    "def character_frequency(s):\n",
    "    freq_dict = {}\n",
    "    for char in s:\n",
    "        if char in freq_dict:\n",
    "            freq_dict[char] += 1\n",
    "        else:\n",
    "            freq_dict[char] = 1\n",
    "    return freq_dict\n",
    "\n",
    "string = input(\"Enter a string: \")\n",
    "freq = character_frequency(string)\n",
    "for char, count in freq.items():\n",
    "    print(f\"'{char}': {count}\")\n"
   ]
  }
 ],
 "metadata": {
  "kernelspec": {
   "display_name": "Python 3 (ipykernel)",
   "language": "python",
   "name": "python3"
  },
  "language_info": {
   "codemirror_mode": {
    "name": "ipython",
    "version": 3
   },
   "file_extension": ".py",
   "mimetype": "text/x-python",
   "name": "python",
   "nbconvert_exporter": "python",
   "pygments_lexer": "ipython3",
   "version": "3.9.13"
  }
 },
 "nbformat": 4,
 "nbformat_minor": 5
}
